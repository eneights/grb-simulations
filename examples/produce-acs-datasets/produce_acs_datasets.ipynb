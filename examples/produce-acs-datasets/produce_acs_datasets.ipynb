{
 "cells": [
  {
   "cell_type": "markdown",
   "id": "e693532f",
   "metadata": {},
   "source": [
    "## Create ACS Datasets for Onboard Trigger Algorithm Testing"
   ]
  },
  {
   "cell_type": "code",
   "execution_count": null,
   "id": "1d78a9ad",
   "metadata": {},
   "outputs": [],
   "source": [
    "background hdf5 files \n",
    "source sim files \n",
    "convert sim to hdf5 \n",
    "combine sim and hdf5 \n"
   ]
  }
 ],
 "metadata": {
  "language_info": {
   "name": "python"
  }
 },
 "nbformat": 4,
 "nbformat_minor": 5
}
